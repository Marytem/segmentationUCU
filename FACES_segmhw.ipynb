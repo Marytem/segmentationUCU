{
  "nbformat": 4,
  "nbformat_minor": 0,
  "metadata": {
    "colab": {
      "name": "FACES_segmhw.ipynb",
      "provenance": [],
      "include_colab_link": true
    },
    "kernelspec": {
      "name": "python3",
      "display_name": "Python 3"
    },
    "accelerator": "GPU"
  },
  "cells": [
    {
      "cell_type": "markdown",
      "metadata": {
        "id": "view-in-github",
        "colab_type": "text"
      },
      "source": [
        "<a href=\"https://colab.research.google.com/github/Marytem/segmentationUCU/blob/master/FACES_segmhw.ipynb\" target=\"_parent\"><img src=\"https://colab.research.google.com/assets/colab-badge.svg\" alt=\"Open In Colab\"/></a>"
      ]
    },
    {
      "cell_type": "markdown",
      "metadata": {
        "id": "cpZ98uCXepGA",
        "colab_type": "text"
      },
      "source": [
        "You must upload here a technical report covering:\n",
        "\n",
        "- Problem description\n",
        "\n",
        "- Challenges\n",
        "\n",
        "- Model description\n",
        "\n",
        "- Training/validation strategy\n",
        "\n",
        "- Experiment log\n",
        "\n",
        "- Discussion (what worked, what didn't work, how to improve)\n"
      ]
    },
    {
      "cell_type": "code",
      "metadata": {
        "id": "pwwPjVegdqpo",
        "colab_type": "code",
        "colab": {}
      },
      "source": [
        "import numpy as np \n",
        "import pandas as pd\n",
        "import cv2\n",
        "from matplotlib import pyplot as plt\n",
        "import torch"
      ],
      "execution_count": 0,
      "outputs": []
    },
    {
      "cell_type": "code",
      "metadata": {
        "id": "ORmkhDdJcf4z",
        "colab_type": "code",
        "outputId": "5d72f27b-2dd1-497d-add6-f4c97c62e2dd",
        "colab": {
          "base_uri": "https://localhost:8080/",
          "height": 34
        }
      },
      "source": [
        "from google.colab import drive\n",
        "drive.mount('/content/drive')"
      ],
      "execution_count": 2,
      "outputs": [
        {
          "output_type": "stream",
          "text": [
            "Drive already mounted at /content/drive; to attempt to forcibly remount, call drive.mount(\"/content/drive\", force_remount=True).\n"
          ],
          "name": "stdout"
        }
      ]
    },
    {
      "cell_type": "code",
      "metadata": {
        "id": "Om15G_kL19jn",
        "colab_type": "code",
        "outputId": "89d67239-604d-4a70-86c7-e7ec06336ca8",
        "colab": {
          "base_uri": "https://localhost:8080/",
          "height": 522
        }
      },
      "source": [
        "!pip install pretrainedmodels\n",
        "!pip install albumentations"
      ],
      "execution_count": 3,
      "outputs": [
        {
          "output_type": "stream",
          "text": [
            "Requirement already satisfied: pretrainedmodels in /usr/local/lib/python3.6/dist-packages (0.7.4)\n",
            "Requirement already satisfied: munch in /usr/local/lib/python3.6/dist-packages (from pretrainedmodels) (2.3.2)\n",
            "Requirement already satisfied: torchvision in /usr/local/lib/python3.6/dist-packages (from pretrainedmodels) (0.4.1+cu100)\n",
            "Requirement already satisfied: tqdm in /usr/local/lib/python3.6/dist-packages (from pretrainedmodels) (4.28.1)\n",
            "Requirement already satisfied: torch in /usr/local/lib/python3.6/dist-packages (from pretrainedmodels) (1.3.0+cu100)\n",
            "Requirement already satisfied: six in /usr/local/lib/python3.6/dist-packages (from munch->pretrainedmodels) (1.12.0)\n",
            "Requirement already satisfied: numpy in /usr/local/lib/python3.6/dist-packages (from torchvision->pretrainedmodels) (1.17.3)\n",
            "Requirement already satisfied: pillow>=4.1.1 in /usr/local/lib/python3.6/dist-packages (from torchvision->pretrainedmodels) (4.3.0)\n",
            "Requirement already satisfied: olefile in /usr/local/lib/python3.6/dist-packages (from pillow>=4.1.1->torchvision->pretrainedmodels) (0.46)\n",
            "Requirement already satisfied: albumentations in /usr/local/lib/python3.6/dist-packages (0.1.12)\n",
            "Requirement already satisfied: scipy in /usr/local/lib/python3.6/dist-packages (from albumentations) (1.3.1)\n",
            "Requirement already satisfied: imgaug<0.2.7,>=0.2.5 in /usr/local/lib/python3.6/dist-packages (from albumentations) (0.2.6)\n",
            "Requirement already satisfied: opencv-python in /usr/local/lib/python3.6/dist-packages (from albumentations) (3.4.7.28)\n",
            "Requirement already satisfied: numpy>=1.11.1 in /usr/local/lib/python3.6/dist-packages (from albumentations) (1.17.3)\n",
            "Requirement already satisfied: six in /usr/local/lib/python3.6/dist-packages (from imgaug<0.2.7,>=0.2.5->albumentations) (1.12.0)\n",
            "Requirement already satisfied: scikit-image>=0.11.0 in /usr/local/lib/python3.6/dist-packages (from imgaug<0.2.7,>=0.2.5->albumentations) (0.15.0)\n",
            "Requirement already satisfied: imageio>=2.0.1 in /usr/local/lib/python3.6/dist-packages (from scikit-image>=0.11.0->imgaug<0.2.7,>=0.2.5->albumentations) (2.4.1)\n",
            "Requirement already satisfied: networkx>=2.0 in /usr/local/lib/python3.6/dist-packages (from scikit-image>=0.11.0->imgaug<0.2.7,>=0.2.5->albumentations) (2.4)\n",
            "Requirement already satisfied: PyWavelets>=0.4.0 in /usr/local/lib/python3.6/dist-packages (from scikit-image>=0.11.0->imgaug<0.2.7,>=0.2.5->albumentations) (1.1.1)\n",
            "Requirement already satisfied: matplotlib!=3.0.0,>=2.0.0 in /usr/local/lib/python3.6/dist-packages (from scikit-image>=0.11.0->imgaug<0.2.7,>=0.2.5->albumentations) (3.1.1)\n",
            "Requirement already satisfied: pillow>=4.3.0 in /usr/local/lib/python3.6/dist-packages (from scikit-image>=0.11.0->imgaug<0.2.7,>=0.2.5->albumentations) (4.3.0)\n",
            "Requirement already satisfied: decorator>=4.3.0 in /usr/local/lib/python3.6/dist-packages (from networkx>=2.0->scikit-image>=0.11.0->imgaug<0.2.7,>=0.2.5->albumentations) (4.4.0)\n",
            "Requirement already satisfied: kiwisolver>=1.0.1 in /usr/local/lib/python3.6/dist-packages (from matplotlib!=3.0.0,>=2.0.0->scikit-image>=0.11.0->imgaug<0.2.7,>=0.2.5->albumentations) (1.1.0)\n",
            "Requirement already satisfied: python-dateutil>=2.1 in /usr/local/lib/python3.6/dist-packages (from matplotlib!=3.0.0,>=2.0.0->scikit-image>=0.11.0->imgaug<0.2.7,>=0.2.5->albumentations) (2.6.1)\n",
            "Requirement already satisfied: pyparsing!=2.0.4,!=2.1.2,!=2.1.6,>=2.0.1 in /usr/local/lib/python3.6/dist-packages (from matplotlib!=3.0.0,>=2.0.0->scikit-image>=0.11.0->imgaug<0.2.7,>=0.2.5->albumentations) (2.4.2)\n",
            "Requirement already satisfied: cycler>=0.10 in /usr/local/lib/python3.6/dist-packages (from matplotlib!=3.0.0,>=2.0.0->scikit-image>=0.11.0->imgaug<0.2.7,>=0.2.5->albumentations) (0.10.0)\n",
            "Requirement already satisfied: olefile in /usr/local/lib/python3.6/dist-packages (from pillow>=4.3.0->scikit-image>=0.11.0->imgaug<0.2.7,>=0.2.5->albumentations) (0.46)\n",
            "Requirement already satisfied: setuptools in /usr/local/lib/python3.6/dist-packages (from kiwisolver>=1.0.1->matplotlib!=3.0.0,>=2.0.0->scikit-image>=0.11.0->imgaug<0.2.7,>=0.2.5->albumentations) (41.4.0)\n"
          ],
          "name": "stdout"
        }
      ]
    },
    {
      "cell_type": "markdown",
      "metadata": {
        "id": "1NOP0-4MCkZe",
        "colab_type": "text"
      },
      "source": [
        "# losses"
      ]
    },
    {
      "cell_type": "code",
      "metadata": {
        "id": "sQk1SX8v1nfZ",
        "colab_type": "code",
        "colab": {}
      },
      "source": [
        "import torch \n",
        "import torch.nn as nn\n",
        "\n",
        "def dice_loss(preds, trues, weight=None, is_average=True, eps=1):\n",
        "    num = preds.size(0)\n",
        "    preds = preds.view(num, -1)\n",
        "    trues = trues.view(num, -1)\n",
        "    if weight is not None:\n",
        "        w = torch.autograd.Variable(weight).view(num, -1)\n",
        "        preds = preds * w\n",
        "        trues = trues * w\n",
        "    intersection = (preds * trues).sum(1)\n",
        "    scores = 2. * (intersection + eps) / (preds.sum(1) + trues.sum(1) + eps)\n",
        "\n",
        "    if is_average:\n",
        "        score = scores.sum() / num\n",
        "        return torch.clamp(score, 0., 1.)\n",
        "    else:\n",
        "        return scores\n",
        "\n",
        "    \n",
        "def jaccard_loss(preds, trues, weight=None, is_average=True, eps=1e-3):\n",
        "    num = preds.size(0)\n",
        "    preds = preds.view(num, -1)\n",
        "    trues = trues.view(num, -1)\n",
        "    if weight is not None:\n",
        "        w = torch.autograd.Variable(weight).view(num, -1)\n",
        "        preds = preds * w\n",
        "        trues = trues * w\n",
        "    intersection = (preds * trues).sum(1)\n",
        "    scores = (intersection + eps) / ((preds + trues).sum(1) - intersection + eps)\n",
        "\n",
        "    if is_average:\n",
        "        score = scores.sum()/num\n",
        "        return torch.clamp(score, 0., 1.)\n",
        "    else:\n",
        "        return scores\n",
        "\n",
        "\n",
        "def dice_clamp(preds, trues, is_average=True):\n",
        "    preds = torch.round(preds)\n",
        "    return dice_loss(preds, trues, is_average=is_average)\n",
        "\n",
        "\n",
        "def jaccard_clamp(preds, trues, is_average=True):\n",
        "    preds = torch.round(preds)\n",
        "    return jaccard_loss(preds, trues, is_average=is_average)    \n",
        "\n",
        "\n",
        "class FocalLossBinary(nn.Module):\n",
        "    \"\"\"Focal loss puts more weight on more complicated examples.\n",
        "    https://github.com/warmspringwinds/pytorch-segmentation-detection/blob/master/pytorch_segmentation_detection/losses.py\n",
        "    output is log_softmax\n",
        "    \"\"\"\n",
        "\n",
        "    def __init__(self, gamma=2, size_average=True, reduce=True):\n",
        "        super(FocalLossBinary, self).__init__(size_average=size_average, reduce=reduce)\n",
        "        self.gamma = gamma\n",
        "\n",
        "    def forward(self, outputs, targets):\n",
        "\n",
        "        outputs = F.logsigmoid(outputs)\n",
        "        logpt = -F.binary_cross_entropy_with_logits(outputs, targets.float(), reduce=False)\n",
        "        pt = torch.exp(logpt)\n",
        "\n",
        "        # compute the loss\n",
        "        loss = -((1 - pt).pow(self.gamma)) * logpt\n",
        "\n",
        "        # averaging (or not) loss\n",
        "        if self.size_average:\n",
        "            return loss.mean()\n",
        "        else:\n",
        "            return loss.sum()\n",
        "\n",
        "        \n",
        "class DiceLoss(nn.Module):\n",
        "    def __init__(self, size_average=True, eps=1):\n",
        "        super().__init__()\n",
        "        self.size_average = size_average\n",
        "        self.eps = eps\n",
        "\n",
        "    def forward(self, input, target, weight=None):\n",
        "        return 1-dice_loss(torch.sigmoid(input), target, \n",
        "                           weight=weight, is_average=self.size_average, eps=self.eps)\n",
        "\n",
        "\n",
        "class BCEDiceLoss(nn.Module):\n",
        "    def __init__(self, size_average=True):\n",
        "        super().__init__()\n",
        "        self.size_average = size_average\n",
        "        self.dice = DiceLoss(size_average=size_average)\n",
        "\n",
        "    def forward(self, input, target, weight=None):\n",
        "        return nn.modules.loss.BCEWithLogitsLoss(size_average=self.size_average, \n",
        "                                                 weight=weight)(input, target) + self.dice(input, target, weight=weight)\n",
        "    \n",
        "class JaccardLoss(nn.Module):\n",
        "    def __init__(self, size_average=True, eps=100):\n",
        "        super().__init__()\n",
        "        self.size_average = size_average\n",
        "        self.eps = eps\n",
        "\n",
        "    def forward(self, input, target, weight=None):\n",
        "        return 1-jaccard_loss(torch.sigmoid(input), target, \n",
        "                              weight=weight, is_average=self.size_average, eps=self.eps)\n",
        "\n",
        "\n",
        "class BCEJaccardLoss(nn.Module):\n",
        "    def __init__(self, size_average=True):\n",
        "        super().__init__()\n",
        "        self.size_average = size_average\n",
        "        self.eps = 100\n",
        "        self.jaccard = JaccardLoss(size_average=size_average, eps=self.eps)\n",
        "\n",
        "    def forward(self, input, target, weight=None):\n",
        "        return nn.modules.loss.BCEWithLogitsLoss(size_average=self.size_average, \n",
        "                                                 weight=weight)(input, target) + self.jaccard(input, target, weight=weight)"
      ],
      "execution_count": 0,
      "outputs": []
    },
    {
      "cell_type": "markdown",
      "metadata": {
        "id": "QnJPLUcUCvkG",
        "colab_type": "text"
      },
      "source": [
        "# utils"
      ]
    },
    {
      "cell_type": "code",
      "metadata": {
        "id": "G2CaKQOW1p-y",
        "colab_type": "code",
        "colab": {}
      },
      "source": [
        "import torch\n",
        "\n",
        "\n",
        "def save_checkpoint(checkpoint_path, model, optimizer):\n",
        "    state = {'state_dict': model.state_dict(),\n",
        "             'optimizer' : optimizer.state_dict()}\n",
        "    torch.save(state, checkpoint_path)\n",
        "    print('model saved to %s' % checkpoint_path)\n",
        "    \n",
        "def load_checkpoint(checkpoint_path, model, optimizer):\n",
        "    state = torch.load(checkpoint_path)\n",
        "    model.load_state_dict(state['state_dict'])\n",
        "    optimizer.load_state_dict(state['optimizer'])\n",
        "    print('model loaded from %s' % checkpoint_path)"
      ],
      "execution_count": 0,
      "outputs": []
    },
    {
      "cell_type": "markdown",
      "metadata": {
        "id": "Zvd3Lq23C0lX",
        "colab_type": "text"
      },
      "source": [
        "# models"
      ]
    },
    {
      "cell_type": "code",
      "metadata": {
        "id": "2AismkDo1Q-4",
        "colab_type": "code",
        "colab": {}
      },
      "source": [
        "from torch import nn\n",
        "from torch.nn import functional as F\n",
        "import torch\n",
        "from torchvision import models\n",
        "import torchvision\n",
        "from pretrainedmodels import models as pmodels\n",
        "\n",
        "def conv3x3(in_, out):\n",
        "    return nn.Conv2d(in_, out, 3, padding=1)\n",
        "\n",
        "\n",
        "class ConvRelu(nn.Module):\n",
        "    def __init__(self, in_, out):\n",
        "        super().__init__()\n",
        "        self.conv = conv3x3(in_, out)\n",
        "        self.activation = nn.ReLU(inplace=True)\n",
        "\n",
        "    def forward(self, x):\n",
        "        x = self.conv(x)\n",
        "        x = self.activation(x)\n",
        "        return x\n",
        "\n",
        "\n",
        "class DecoderBlock(nn.Module):\n",
        "    def __init__(self, in_channels, middle_channels, out_channels):\n",
        "        super().__init__()\n",
        "\n",
        "        self.block = nn.Sequential(\n",
        "            ConvRelu(in_channels, middle_channels),\n",
        "            nn.ConvTranspose2d(middle_channels, out_channels, kernel_size=3, stride=2, padding=1, output_padding=1),\n",
        "            nn.ReLU(inplace=True)\n",
        "        )\n",
        "\n",
        "    def forward(self, x):\n",
        "        return self.block(x)\n",
        "\n",
        "\n",
        "class UNet11(nn.Module):\n",
        "    def __init__(self, num_filters=32, pretrained=False):\n",
        "        \"\"\"\n",
        "        :param num_classes:\n",
        "        :param num_filters:\n",
        "        :param pretrained:\n",
        "            False - no pre-trained network is used\n",
        "            True  - encoder is pre-trained with VGG11\n",
        "        \"\"\"\n",
        "        super().__init__()\n",
        "        self.pool = nn.MaxPool2d(2, 2)\n",
        "\n",
        "        self.encoder = models.vgg11(pretrained=pretrained).features\n",
        "\n",
        "        self.relu = self.encoder[1]\n",
        "        self.conv1 = self.encoder[0]\n",
        "        self.conv2 = self.encoder[3]\n",
        "        self.conv3s = self.encoder[6]\n",
        "        self.conv3 = self.encoder[8]\n",
        "        self.conv4s = self.encoder[11]\n",
        "        self.conv4 = self.encoder[13]\n",
        "        self.conv5s = self.encoder[16]\n",
        "        self.conv5 = self.encoder[18]\n",
        "\n",
        "        self.center = DecoderBlock(num_filters * 8 * 2, num_filters * 8 * 2, num_filters * 8)\n",
        "        self.dec5 = DecoderBlock(num_filters * (16 + 8), num_filters * 8 * 2, num_filters * 8)\n",
        "        self.dec4 = DecoderBlock(num_filters * (16 + 8), num_filters * 8 * 2, num_filters * 4)\n",
        "        self.dec3 = DecoderBlock(num_filters * (8 + 4), num_filters * 4 * 2, num_filters * 2)\n",
        "        self.dec2 = DecoderBlock(num_filters * (4 + 2), num_filters * 2 * 2, num_filters)\n",
        "        self.dec1 = ConvRelu(num_filters * (2 + 1), num_filters)\n",
        "\n",
        "        self.final = nn.Conv2d(num_filters, 1, kernel_size=1)\n",
        "\n",
        "    def forward(self, x):\n",
        "        conv1 = self.relu(self.conv1(x))\n",
        "        conv2 = self.relu(self.conv2(self.pool(conv1)))\n",
        "        conv3s = self.relu(self.conv3s(self.pool(conv2)))\n",
        "        conv3 = self.relu(self.conv3(conv3s))\n",
        "        conv4s = self.relu(self.conv4s(self.pool(conv3)))\n",
        "        conv4 = self.relu(self.conv4(conv4s))\n",
        "        conv5s = self.relu(self.conv5s(self.pool(conv4)))\n",
        "        conv5 = self.relu(self.conv5(conv5s))\n",
        "\n",
        "        center = self.center(self.pool(conv5))\n",
        "\n",
        "        dec5 = self.dec5(torch.cat([center, conv5], 1))\n",
        "        dec4 = self.dec4(torch.cat([dec5, conv4], 1))\n",
        "        dec3 = self.dec3(torch.cat([dec4, conv3], 1))\n",
        "        dec2 = self.dec2(torch.cat([dec3, conv2], 1))\n",
        "        dec1 = self.dec1(torch.cat([dec2, conv1], 1))\n",
        "        return self.final(dec1)\n",
        "\n",
        "\n",
        "def unet11(pretrained=False, **kwargs):\n",
        "    \"\"\"\n",
        "    pretrained:\n",
        "            False - no pre-trained network is used\n",
        "            True  - encoder is pre-trained with VGG11\n",
        "            carvana - all weights are pre-trained on\n",
        "                Kaggle: Carvana dataset https://www.kaggle.com/c/carvana-image-masking-challenge\n",
        "    \"\"\"\n",
        "    model = UNet11(pretrained=pretrained, **kwargs)\n",
        "\n",
        "    if pretrained == 'carvana':\n",
        "        state = torch.load('TernausNet.pt')\n",
        "        model.load_state_dict(state['model'])\n",
        "    return model\n",
        "\n",
        "\n",
        "class Interpolate(nn.Module):\n",
        "    def __init__(self, size=None, scale_factor=None, mode='nearest', align_corners=False):\n",
        "        super(Interpolate, self).__init__()\n",
        "        self.interp = nn.functional.interpolate\n",
        "        self.size = size\n",
        "        self.mode = mode\n",
        "        self.scale_factor = scale_factor\n",
        "        self.align_corners = align_corners\n",
        "        \n",
        "    def forward(self, x):\n",
        "        x = self.interp(x, size=self.size, scale_factor=self.scale_factor, \n",
        "                        mode=self.mode, align_corners=self.align_corners)\n",
        "        return x\n",
        "\n",
        "\n",
        "class DecoderBlockV2(nn.Module):\n",
        "    def __init__(self, in_channels, middle_channels, out_channels, is_deconv=True):\n",
        "        super(DecoderBlockV2, self).__init__()\n",
        "        self.in_channels = in_channels\n",
        "\n",
        "        if is_deconv:\n",
        "            \"\"\"\n",
        "                Paramaters for Deconvolution were chosen to avoid artifacts, following\n",
        "                link https://distill.pub/2016/deconv-checkerboard/\n",
        "            \"\"\"\n",
        "\n",
        "            self.block = nn.Sequential(\n",
        "                ConvRelu(in_channels, middle_channels),\n",
        "                nn.ConvTranspose2d(middle_channels, out_channels, kernel_size=4, stride=2,\n",
        "                                   padding=1),\n",
        "                nn.ReLU(inplace=True)\n",
        "            )\n",
        "        else:\n",
        "            self.block = nn.Sequential(\n",
        "                Interpolate(scale_factor=2, mode='bilinear'),\n",
        "                ConvRelu(in_channels, middle_channels),\n",
        "                ConvRelu(middle_channels, out_channels),\n",
        "            )\n",
        "\n",
        "    def forward(self, x):\n",
        "        return self.block(x)\n",
        "\n",
        "\n",
        "class ResNet43Unet(nn.Module):\n",
        "    \"\"\"\n",
        "        UNet (https://arxiv.org/abs/1505.04597) with Resnet34(https://arxiv.org/abs/1512.03385) encoder\n",
        "        Proposed by Alexander Buslaev: https://www.linkedin.com/in/al-buslaev/\n",
        "        \"\"\"\n",
        "\n",
        "    def __init__(self, num_classes=1, num_filters=32, pretrained=False, is_deconv=False):\n",
        "        \"\"\"\n",
        "        :param num_classes:\n",
        "        :param num_filters:\n",
        "        :param pretrained:\n",
        "            False - no pre-trained network is used\n",
        "            True  - encoder is pre-trained with resnet34\n",
        "        :is_deconv:\n",
        "            False: bilinear interpolation is used in decoder\n",
        "            True: deconvolution is used in decoder\n",
        "        \"\"\"\n",
        "        super().__init__()\n",
        "        self.num_classes = num_classes\n",
        "\n",
        "        self.pool = nn.MaxPool2d(2, 2)\n",
        "\n",
        "        self.encoder = torchvision.models.resnet34(pretrained=pretrained)\n",
        "\n",
        "        self.relu = nn.ReLU(inplace=True)\n",
        "\n",
        "        self.conv1 = nn.Sequential(self.encoder.conv1,\n",
        "                                   self.encoder.bn1,\n",
        "                                   self.encoder.relu,\n",
        "                                   self.pool)\n",
        "\n",
        "        self.conv2 = self.encoder.layer1\n",
        "\n",
        "        self.conv3 = self.encoder.layer2\n",
        "\n",
        "        self.conv4 = self.encoder.layer3\n",
        "\n",
        "        self.conv5 = self.encoder.layer4\n",
        "\n",
        "        self.center = DecoderBlockV2(512, num_filters * 8 * 2, num_filters * 8, is_deconv)\n",
        "\n",
        "        self.dec5 = DecoderBlockV2(512 + num_filters * 8, num_filters * 8 * 2, num_filters * 8, is_deconv)\n",
        "        self.dec4 = DecoderBlockV2(256 + num_filters * 8, num_filters * 8 * 2, num_filters * 8, is_deconv)\n",
        "        self.dec3 = DecoderBlockV2(128 + num_filters * 8, num_filters * 4 * 2, num_filters * 2, is_deconv)\n",
        "        self.dec2 = DecoderBlockV2(64 + num_filters * 2, num_filters * 2 * 2, num_filters * 2 * 2, is_deconv)\n",
        "        self.dec1 = DecoderBlockV2(num_filters * 2 * 2, num_filters * 2 * 2, num_filters, is_deconv)\n",
        "        self.dec0 = ConvRelu(num_filters, num_filters)\n",
        "        self.final = nn.Conv2d(num_filters, num_classes, kernel_size=1)\n",
        "\n",
        "    def forward(self, x):\n",
        "        conv1 = self.conv1(x)\n",
        "        conv2 = self.conv2(conv1)\n",
        "        conv3 = self.conv3(conv2)\n",
        "        conv4 = self.conv4(conv3)\n",
        "        conv5 = self.conv5(conv4)\n",
        "\n",
        "        center = self.center(self.pool(conv5))\n",
        "\n",
        "        dec5 = self.dec5(torch.cat([center, conv5], 1))\n",
        "\n",
        "        dec4 = self.dec4(torch.cat([dec5, conv4], 1))\n",
        "        dec3 = self.dec3(torch.cat([dec4, conv3], 1))\n",
        "        dec2 = self.dec2(torch.cat([dec3, conv2], 1))\n",
        "        dec1 = self.dec1(dec2)\n",
        "        dec0 = self.dec0(dec1)\n",
        "\n",
        "        if self.num_classes > 1:\n",
        "            x_out = F.log_softmax(self.final(dec0), dim=1)\n",
        "        else:\n",
        "            x_out = self.final(dec0)\n",
        "\n",
        "        return x_out\n",
        "\n",
        "\n",
        "class UNet16(nn.Module):\n",
        "    def __init__(self, num_classes=1, num_filters=32, pretrained=False, is_deconv=False):\n",
        "        \"\"\"\n",
        "        :param num_classes:\n",
        "        :param num_filters:\n",
        "        :param pretrained:\n",
        "            False - no pre-trained network used\n",
        "            True - encoder pre-trained with VGG16\n",
        "        :is_deconv:\n",
        "            False: bilinear interpolation is used in decoder\n",
        "            True: deconvolution is used in decoder\n",
        "        \"\"\"\n",
        "        super().__init__()\n",
        "        self.num_classes = num_classes\n",
        "\n",
        "        self.pool = nn.MaxPool2d(2, 2)\n",
        "\n",
        "        self.encoder = torchvision.models.vgg16(pretrained=pretrained).features\n",
        "\n",
        "        self.relu = nn.ReLU(inplace=True)\n",
        "\n",
        "        self.conv1 = nn.Sequential(self.encoder[0],\n",
        "                                   self.relu,\n",
        "                                   self.encoder[2],\n",
        "                                   self.relu)\n",
        "\n",
        "        self.conv2 = nn.Sequential(self.encoder[5],\n",
        "                                   self.relu,\n",
        "                                   self.encoder[7],\n",
        "                                   self.relu)\n",
        "\n",
        "        self.conv3 = nn.Sequential(self.encoder[10],\n",
        "                                   self.relu,\n",
        "                                   self.encoder[12],\n",
        "                                   self.relu,\n",
        "                                   self.encoder[14],\n",
        "                                   self.relu)\n",
        "\n",
        "        self.conv4 = nn.Sequential(self.encoder[17],\n",
        "                                   self.relu,\n",
        "                                   self.encoder[19],\n",
        "                                   self.relu,\n",
        "                                   self.encoder[21],\n",
        "                                   self.relu)\n",
        "\n",
        "        self.conv5 = nn.Sequential(self.encoder[24],\n",
        "                                   self.relu,\n",
        "                                   self.encoder[26],\n",
        "                                   self.relu,\n",
        "                                   self.encoder[28],\n",
        "                                   self.relu)\n",
        "\n",
        "        self.center = DecoderBlockV2(512, num_filters * 8 * 2, num_filters * 8, is_deconv)\n",
        "\n",
        "        self.dec5 = DecoderBlockV2(512 + num_filters * 8, num_filters * 8 * 2, num_filters * 8, is_deconv)\n",
        "        self.dec4 = DecoderBlockV2(512 + num_filters * 8, num_filters * 8 * 2, num_filters * 8, is_deconv)\n",
        "        self.dec3 = DecoderBlockV2(256 + num_filters * 8, num_filters * 4 * 2, num_filters * 2, is_deconv)\n",
        "        self.dec2 = DecoderBlockV2(128 + num_filters * 2, num_filters * 2 * 2, num_filters, is_deconv)\n",
        "        self.dec1 = ConvRelu(64 + num_filters, num_filters)\n",
        "        self.final = nn.Conv2d(num_filters, num_classes, kernel_size=1)\n",
        "\n",
        "    def forward(self, x):\n",
        "        conv1 = self.conv1(x)\n",
        "        conv2 = self.conv2(self.pool(conv1))\n",
        "        conv3 = self.conv3(self.pool(conv2))\n",
        "        conv4 = self.conv4(self.pool(conv3))\n",
        "        conv5 = self.conv5(self.pool(conv4))\n",
        "\n",
        "        center = self.center(self.pool(conv5))\n",
        "\n",
        "        dec5 = self.dec5(torch.cat([center, conv5], 1))\n",
        "\n",
        "        dec4 = self.dec4(torch.cat([dec5, conv4], 1))\n",
        "        dec3 = self.dec3(torch.cat([dec4, conv3], 1))\n",
        "        dec2 = self.dec2(torch.cat([dec3, conv2], 1))\n",
        "        dec1 = self.dec1(torch.cat([dec2, conv1], 1))\n",
        "\n",
        "        if self.num_classes > 1:\n",
        "            x_out = F.log_softmax(self.final(dec1), dim=1)\n",
        "        else:\n",
        "            x_out = self.final(dec1)\n",
        "\n",
        "        return x_out\n"
      ],
      "execution_count": 0,
      "outputs": []
    },
    {
      "cell_type": "markdown",
      "metadata": {
        "id": "MZ5o5MDaC7Kh",
        "colab_type": "text"
      },
      "source": [
        "# data"
      ]
    },
    {
      "cell_type": "code",
      "metadata": {
        "id": "wljnsUB07zgy",
        "colab_type": "code",
        "colab": {}
      },
      "source": [
        "import torch\n",
        "import torchvision\n",
        "import os\n",
        "import cv2\n",
        "import random\n",
        "import glob\n",
        "\n",
        "import numpy as np\n",
        "import matplotlib.pyplot as plt\n",
        "import pandas as pd\n",
        "import glob\n",
        "from torch import nn\n",
        "from torch.nn import functional as F\n",
        "from torchvision import models\n",
        "from torchvision import transforms\n",
        "from torch.utils import data\n",
        "\n",
        "from pathlib import Path\n",
        "from torch.nn import functional as F\n",
        "from torch.autograd import Variable\n",
        "from tqdm import tqdm, tqdm_notebook\n",
        "from torch.optim.lr_scheduler import MultiStepLR\n",
        "# import models\n",
        "# from utils import *\n",
        "# from loss import *\n",
        "%matplotlib inline\n",
        "\n",
        "from albumentations import (ToFloat, \n",
        "    CLAHE, RandomRotate90, Transpose, ShiftScaleRotate, Blur, OpticalDistortion, \n",
        "    GridDistortion, HueSaturationValue, IAAAdditiveGaussianNoise, GaussNoise, MotionBlur, \n",
        "    MedianBlur, IAAPiecewiseAffine, IAASharpen, IAAEmboss, RandomContrast, RandomBrightness, \n",
        "    Flip, OneOf, Compose, PadIfNeeded, RandomCrop, Normalize, HorizontalFlip, Resize, VerticalFlip,\n",
        "    RandomCrop\n",
        "    \n",
        ")\n",
        "import albumentations"
      ],
      "execution_count": 0,
      "outputs": []
    },
    {
      "cell_type": "code",
      "metadata": {
        "id": "r6iHe1E67zg5",
        "colab_type": "code",
        "colab": {}
      },
      "source": [
        "directory = 'drive/My Drive/UCU-CV-2/UCU-CV-HOMEWORK/FACES-UCU/input'"
      ],
      "execution_count": 0,
      "outputs": []
    },
    {
      "cell_type": "code",
      "metadata": {
        "id": "04ljgVuo7zg9",
        "colab_type": "code",
        "colab": {}
      },
      "source": [
        "height_req, width_req = 640, 640\n",
        "height_orig, width_orig = 320, 240"
      ],
      "execution_count": 0,
      "outputs": []
    },
    {
      "cell_type": "code",
      "metadata": {
        "id": "qgA_8VmT7zhA",
        "colab_type": "code",
        "colab": {}
      },
      "source": [
        "class DriveDataset(data.Dataset):\n",
        "    def __init__(self, root_path, file_list, aug = False, mode='train'):\n",
        "        \"\"\" Intialize the dataset\n",
        "        \"\"\"\n",
        "        self.file_list = file_list\n",
        "        self.root_path = root_path\n",
        "        self.image_folder = os.path.join(self.root_path, \"images\")\n",
        "        self.mask_folder = os.path.join(self.root_path, \"masks\")\n",
        "        self.mode = mode\n",
        "        self.aug = aug\n",
        "        self.pad = PadIfNeeded(p=1, \n",
        "                               min_height=height_req, \n",
        "                               min_width=width_req, \n",
        "                               border_mode=cv2.BORDER_CONSTANT)\n",
        "        if self.aug:\n",
        "            self.transform = Compose([\n",
        "                                RandomRotate90(),\n",
        "                                Transpose(),\n",
        "                                Flip()\n",
        "                            ])\n",
        "        else:\n",
        "            self.transform = transforms.ToTensor()\n",
        "            \n",
        "    def __getitem__(self, index):\n",
        "        \"\"\" Get a sample from the dataset\n",
        "        \"\"\"\n",
        "        image_path = os.path.join(self.image_folder, self.file_list[index] + \".jpg\")\n",
        "        mask_path  = os.path.join(self.mask_folder,  self.file_list[index] + \".png\")\n",
        "        \n",
        "        image = cv2.cvtColor(cv2.imread(image_path), cv2.COLOR_BGR2RGB)\n",
        "        pad = self.pad(image=image)\n",
        "        image = pad['image']\n",
        "\n",
        "\n",
        "        if self.mode == 'train':\n",
        "            mask = cv2.imread(mask_path, 0)\n",
        "            pad = self.pad(image=mask)\n",
        "            mask = pad['image']\n",
        "            \n",
        "        if self.aug:\n",
        "            if self.mode == 'train':\n",
        "                data = {\"image\": image, \"mask\": mask}\n",
        "            else:\n",
        "                data = {\"image\": image}\n",
        "                \n",
        "            transformed = self.transform(**data)\n",
        "            \n",
        "            image = transformed['image'].astype('float32') / 255.\n",
        "            image = np.transpose(image, (2, 0, 1))\n",
        "            \n",
        "            if self.mode == 'train':\n",
        "                return image, transformed['mask'][np.newaxis, :, :].astype('float32') / 255.\n",
        "            else:\n",
        "                return image\n",
        "        else:\n",
        "            if self.mode == 'train':\n",
        "                return self.transform(image), mask[np.newaxis, :, :].astype('float32') / 255.\n",
        "            return self.transform(image)\n",
        "        \n",
        "    def __len__(self):\n",
        "        return len(self.file_list)"
      ],
      "execution_count": 0,
      "outputs": []
    },
    {
      "cell_type": "code",
      "metadata": {
        "id": "QUCrdpcF7zhC",
        "colab_type": "code",
        "colab": {
          "base_uri": "https://localhost:8080/",
          "height": 34
        },
        "outputId": "c03e6bc1-5e34-475e-a5a1-4523c0671b63"
      },
      "source": [
        "train_path = os.path.join(directory, 'train')\n",
        "file_list = [f.split('/')[-1].split('.')[0] for f in sorted(glob.glob(train_path + '/images/*jpg'))]\n",
        "file_list[:5]"
      ],
      "execution_count": 11,
      "outputs": [
        {
          "output_type": "execute_result",
          "data": {
            "text/plain": [
              "['1', '10', '100', '1000', '1001']"
            ]
          },
          "metadata": {
            "tags": []
          },
          "execution_count": 11
        }
      ]
    },
    {
      "cell_type": "code",
      "metadata": {
        "id": "qS9JZ1KZ7zhE",
        "colab_type": "code",
        "colab": {}
      },
      "source": [
        "file_list_val = file_list[::10]\n",
        "file_list_train = [f for f in file_list if f not in file_list_val]\n",
        "\n",
        "dataset_train = DriveDataset(train_path, file_list_train, aug=False)\n",
        "dataset_val = DriveDataset(train_path, file_list_val, aug=False)"
      ],
      "execution_count": 0,
      "outputs": []
    },
    {
      "cell_type": "code",
      "metadata": {
        "id": "xcpsKPjB7zhF",
        "colab_type": "code",
        "colab": {}
      },
      "source": [
        "image, mask = next(iter(data.DataLoader(dataset_train, batch_size=1, shuffle=True)))  "
      ],
      "execution_count": 0,
      "outputs": []
    },
    {
      "cell_type": "code",
      "metadata": {
        "id": "S2awYFWW7zhH",
        "colab_type": "code",
        "outputId": "08f1e4cc-9c1b-45ac-e1ec-8df80f828b52",
        "colab": {
          "base_uri": "https://localhost:8080/",
          "height": 34
        }
      },
      "source": [
        "image.shape"
      ],
      "execution_count": 14,
      "outputs": [
        {
          "output_type": "execute_result",
          "data": {
            "text/plain": [
              "torch.Size([1, 3, 640, 640])"
            ]
          },
          "metadata": {
            "tags": []
          },
          "execution_count": 14
        }
      ]
    },
    {
      "cell_type": "code",
      "metadata": {
        "id": "Hs7DWM0K7zhK",
        "colab_type": "code",
        "outputId": "dcfa0ac7-07a4-487f-c56b-e2132ee3f1a6",
        "colab": {
          "base_uri": "https://localhost:8080/",
          "height": 576
        }
      },
      "source": [
        "plt.figure(figsize=(20,10))\n",
        "plt.subplot(1, 2, 1)\n",
        "plt.imshow(image.data.numpy().squeeze().transpose((1,2,0)))\n",
        "plt.subplot(1, 2, 2)\n",
        "plt.imshow(mask.data.numpy().squeeze())\n",
        "print(mask.shape)"
      ],
      "execution_count": 15,
      "outputs": [
        {
          "output_type": "stream",
          "text": [
            "torch.Size([1, 1, 640, 640])\n"
          ],
          "name": "stdout"
        },
        {
          "output_type": "display_data",
          "data": {
            "image/png": "[encoded data removed]",
            "text/plain": [
              "<Figure size 1440x720 with 2 Axes>"
            ]
          },
          "metadata": {
            "tags": []
          }
        }
      ]
    },
    {
      "cell_type": "code",
      "metadata": {
        "id": "YeFbaQab7zhL",
        "colab_type": "code",
        "outputId": "3a95038a-ef8f-488a-f381-15d374c96b51",
        "colab": {
          "base_uri": "https://localhost:8080/",
          "height": 34
        }
      },
      "source": [
        "mask.data.numpy().squeeze().shape"
      ],
      "execution_count": 16,
      "outputs": [
        {
          "output_type": "execute_result",
          "data": {
            "text/plain": [
              "(640, 640)"
            ]
          },
          "metadata": {
            "tags": []
          },
          "execution_count": 16
        }
      ]
    },
    {
      "cell_type": "code",
      "metadata": {
        "scrolled": true,
        "id": "QQKsl1oH7zhN",
        "colab_type": "code",
        "outputId": "f1c47512-98f7-4cfb-a2b2-9ec04a8692f3",
        "colab": {
          "base_uri": "https://localhost:8080/",
          "height": 768
        }
      },
      "source": [
        "images, masks = next(iter(data.DataLoader(dataset_train, batch_size = 4)))\n",
        "\n",
        "plt.figure(figsize=(16,16))\n",
        "plt.subplot(211)\n",
        "plt.imshow(torchvision.utils.make_grid(images).data.numpy().transpose((1,2,0)))\n",
        "plt.subplot(212)\n",
        "plt.imshow(torchvision.utils.make_grid(masks).data.numpy().transpose((1,2,0)))"
      ],
      "execution_count": 17,
      "outputs": [
        {
          "output_type": "execute_result",
          "data": {
            "text/plain": [
              "<matplotlib.image.AxesImage at 0x7f0ab28c7780>"
            ]
          },
          "metadata": {
            "tags": []
          },
          "execution_count": 17
        },
        {
          "output_type": "display_data",
          "data": {
            "image/png": "[encoded data removed]",
            "text/plain": [
              "<Figure size 1152x1152 with 2 Axes>"
            ]
          },
          "metadata": {
            "tags": []
          }
        }
      ]
    },
    {
      "cell_type": "markdown",
      "metadata": {
        "id": "F8yvoyUSIu9z",
        "colab_type": "text"
      },
      "source": [
        "# Train"
      ]
    },
    {
      "cell_type": "code",
      "metadata": {
        "id": "26uom9_QMPUb",
        "colab_type": "code",
        "colab": {}
      },
      "source": [
        "# model = ResNet43Unet(pretrained=True).cuda()\n",
        "# ct = 0\n",
        "# for child in model.children():\n",
        "#     ct += 1\n",
        "#     if ct <= 13:\n",
        "# #         print(child)        \n",
        "#         for param in child.parameters():\n",
        "#             param.requires_grad = False\n",
        "#     else:\n",
        "#         print(child)"
      ],
      "execution_count": 0,
      "outputs": []
    },
    {
      "cell_type": "code",
      "metadata": {
        "scrolled": false,
        "id": "PUAhDX_87zhO",
        "colab_type": "code",
        "colab": {
          "base_uri": "https://localhost:8080/",
          "height": 710
        },
        "outputId": "27692c01-b20c-4585-d190-b1f72d107a48"
      },
      "source": [
        "model = ResNet43Unet().cuda()\n",
        "\n",
        "epoch = 150\n",
        "learning_rate = 3e-3\n",
        "\n",
        "loss_fn = torch.nn.BCEWithLogitsLoss()\n",
        "\n",
        "optimizer = torch.optim.Adam(model.parameters(), lr=learning_rate)\n",
        "\n",
        "loader_train = data.DataLoader(dataset_train, \n",
        "                               batch_size=4, \n",
        "                               shuffle=True,\n",
        "                               num_workers=8,)\n",
        "\n",
        "loader_val   = data.DataLoader(dataset_val, \n",
        "                               batch_size=4, \n",
        "                               shuffle=False,\n",
        "                               num_workers=8,)\n",
        "\n",
        "train_process = {'loss':[], 'dice':[], 'jaccard':[]}\n",
        "val_process = {'loss':[], 'dice':[], 'jaccard':[]}\n",
        "\n",
        "for e in range(epoch):    \n",
        "    train_loss = []\n",
        "    train_dice = []\n",
        "    train_jaccard = []\n",
        "\n",
        "    for image, mask in loader_train:\n",
        "        image, mask = image.cuda(), mask.cuda()\n",
        "        \n",
        "        optimizer.zero_grad()\n",
        "        y_pred = model(image)\n",
        "\n",
        "        loss = loss_fn(y_pred, mask)\n",
        "        dice = dice_clamp(torch.sigmoid(y_pred).contiguous(), mask.contiguous())\n",
        "        jaccard = jaccard_clamp(torch.sigmoid(y_pred).contiguous(), mask.contiguous())\n",
        "        loss.backward()\n",
        "        optimizer.step()\n",
        "        \n",
        "        train_loss.append(loss.item())\n",
        "        train_dice.append(dice.item())\n",
        "        train_jaccard.append(jaccard.item())\n",
        "\n",
        "    print('done training')    \n",
        "    val_loss = []\n",
        "    val_dice = []\n",
        "    val_jaccard = []\n",
        "    for image, mask in loader_val:\n",
        "        print('val')\n",
        "        image, mask = image.cuda(), mask.cuda()\n",
        "        y_pred = model(image)\n",
        "\n",
        "        loss = loss_fn(y_pred, mask)\n",
        "        dice = dice_clamp(torch.sigmoid(y_pred).contiguous(), mask.contiguous())\n",
        "        jaccard = jaccard_clamp(torch.sigmoid(y_pred).contiguous(), mask.contiguous())\n",
        "        \n",
        "        val_loss.append(loss.item())\n",
        "        val_dice.append(dice.item())\n",
        "        val_jaccard.append(jaccard.item())\n",
        "        \n",
        "    print(\"epoch: %d, train_loss: %.3f, train_dice: %.3f, train_jaccard: %.3f, val_loss: %.3f, val_dice: %.3f, val_jaccard: %.3f\" % \n",
        "          (e, np.mean(train_loss),np.mean(train_dice),np.mean(train_jaccard), \n",
        "              np.mean(val_loss),np.mean(val_dice),np.mean(val_jaccard)))\n",
        "        \n",
        "    train_process['loss'].append(np.mean(train_loss))\n",
        "    train_process['dice'].append(np.mean(train_dice))\n",
        "    train_process['jaccard'].append(np.mean(train_jaccard))\n",
        "    val_process['loss'].append(np.mean(val_loss))\n",
        "    val_process['dice'].append(np.mean(val_dice))\n",
        "    val_process['jaccard'].append(np.mean(val_jaccard))\n",
        "    \n",
        "save_checkpoint('drive-%i.pth' % epoch, model, optimizer)"
      ],
      "execution_count": 0,
      "outputs": [
        {
          "output_type": "stream",
          "text": [
            "done training\n",
            "val\n",
            "val\n",
            "val\n",
            "val\n",
            "val\n",
            "val\n",
            "val\n",
            "val\n",
            "val\n",
            "val\n",
            "val\n",
            "val\n",
            "val\n",
            "val\n",
            "val\n",
            "val\n",
            "val\n",
            "val\n",
            "val\n",
            "val\n",
            "val\n",
            "val\n",
            "val\n",
            "val\n",
            "val\n",
            "val\n",
            "val\n",
            "val\n",
            "val\n",
            "val\n",
            "val\n",
            "val\n",
            "val\n",
            "val\n",
            "val\n",
            "val\n",
            "val\n",
            "val\n",
            "epoch: 0, train_loss: 0.223, train_dice: 0.644, train_jaccard: 0.522, val_loss: 0.108, val_dice: 0.755, val_jaccard: 0.627\n"
          ],
          "name": "stdout"
        }
      ]
    },
    {
      "cell_type": "code",
      "metadata": {
        "id": "QvB3ySV9vzC7",
        "colab_type": "code",
        "colab": {}
      },
      "source": [
        "train_process = pd.DataFrame(data=train_process)\n",
        "cv_process = pd.DataFrame(data=cv_process)\n",
        "train_process['loss'].plot()\n",
        "train_process['dice'].plot()\n",
        "train_process['jaccard'].plot()\n",
        "plt.show()"
      ],
      "execution_count": 0,
      "outputs": []
    },
    {
      "cell_type": "code",
      "metadata": {
        "id": "fzWWk2RSwGJX",
        "colab_type": "code",
        "colab": {}
      },
      "source": [
        "val_process['loss'].plot()\n",
        "val_process['dice'].plot()\n",
        "val_process['jaccard'].plot()\n",
        "plt.show()"
      ],
      "execution_count": 0,
      "outputs": []
    },
    {
      "cell_type": "markdown",
      "metadata": {
        "id": "1poFc03II1P2",
        "colab_type": "text"
      },
      "source": [
        "# Test"
      ]
    },
    {
      "cell_type": "code",
      "metadata": {
        "id": "CIug0jQX7zhP",
        "colab_type": "code",
        "colab": {}
      },
      "source": [
        "test_path = os.path.join(directory, 'test')\n",
        "test_file_list = glob.glob(os.path.join(test_path, 'images', '*.jpg'))\n",
        "test_file_list = [f.split('/')[-1].split('.')[0] for f in test_file_list]\n",
        "print('First 3 names of test files:', test_file_list[:3])"
      ],
      "execution_count": 0,
      "outputs": []
    },
    {
      "cell_type": "code",
      "metadata": {
        "id": "ReI0Uhpf7zhQ",
        "colab_type": "code",
        "colab": {}
      },
      "source": [
        "print(f\"Test size: {len(test_file_list)}\")\n",
        "test_dataset = DriveDataset(test_path, test_file_list, mode=None)\n",
        "all_images = []\n",
        "all_predictions = []\n",
        "for image in tqdm_notebook(data.DataLoader(test_dataset, batch_size = 2, num_workers=8)):\n",
        "    image = image.cuda()\n",
        "#     print(image.shape)\n",
        "    all_images.append(image.cpu().data.numpy())\n",
        "    y_pred = torch.sigmoid(model(image)).cpu().data.numpy()\n",
        "    all_predictions.append(y_pred)\n",
        "all_predictions_stacked = np.vstack(all_predictions)[:, 0, :, :]\n",
        "all_images = np.vstack(all_images)[:, :, :, :]"
      ],
      "execution_count": 0,
      "outputs": []
    },
    {
      "cell_type": "code",
      "metadata": {
        "id": "FXNv4kkU7zhR",
        "colab_type": "code",
        "colab": {}
      },
      "source": [
        "plt.figure(figsize=(20,10))\n",
        "plt.subplot(1, 2, 1)\n",
        "plt.imshow(all_images[0].transpose(1,2,0))\n",
        "plt.subplot(1, 2, 2)\n",
        "plt.imshow(all_predictions_stacked[0])\n",
        "print(mask.shape)"
      ],
      "execution_count": 0,
      "outputs": []
    },
    {
      "cell_type": "code",
      "metadata": {
        "id": "VUexwL2_7zhS",
        "colab_type": "code",
        "colab": {}
      },
      "source": [
        "plt.figure(figsize=(20,10))\n",
        "plt.subplot(1, 2, 1)\n",
        "plt.imshow(all_images[1].transpose(1,2,0))\n",
        "plt.subplot(1, 2, 2)\n",
        "plt.imshow(all_predictions_stacked[1])\n",
        "print(mask.shape)"
      ],
      "execution_count": 0,
      "outputs": []
    },
    {
      "cell_type": "code",
      "metadata": {
        "id": "nBkV1A8m7zhU",
        "colab_type": "code",
        "colab": {}
      },
      "source": [
        "plt.figure(figsize=(20,10))\n",
        "plt.subplot(1, 2, 1)\n",
        "plt.imshow(all_images[0].transpose(1,2,0))\n",
        "plt.subplot(1, 2, 2)\n",
        "plt.imshow(all_predictions_stacked[0])\n",
        "print(mask.shape)"
      ],
      "execution_count": 0,
      "outputs": []
    },
    {
      "cell_type": "code",
      "metadata": {
        "id": "giKaF9qj7zhV",
        "colab_type": "code",
        "colab": {}
      },
      "source": [
        ""
      ],
      "execution_count": 0,
      "outputs": []
    },
    {
      "cell_type": "code",
      "metadata": {
        "id": "h2QiLBFh7zhW",
        "colab_type": "code",
        "colab": {}
      },
      "source": [
        ""
      ],
      "execution_count": 0,
      "outputs": []
    },
    {
      "cell_type": "code",
      "metadata": {
        "id": "WIuUiUuez69W",
        "colab_type": "code",
        "colab": {}
      },
      "source": [
        ""
      ],
      "execution_count": 0,
      "outputs": []
    },
    {
      "cell_type": "code",
      "metadata": {
        "id": "RlHN5Pd5z6ue",
        "colab_type": "code",
        "colab": {}
      },
      "source": [
        ""
      ],
      "execution_count": 0,
      "outputs": []
    },
    {
      "cell_type": "code",
      "metadata": {
        "id": "vcIeZUliz6eA",
        "colab_type": "code",
        "colab": {}
      },
      "source": [
        ""
      ],
      "execution_count": 0,
      "outputs": []
    },
    {
      "cell_type": "code",
      "metadata": {
        "id": "EZfidByaz5uC",
        "colab_type": "code",
        "colab": {}
      },
      "source": [
        ""
      ],
      "execution_count": 0,
      "outputs": []
    },
    {
      "cell_type": "code",
      "metadata": {
        "id": "nsxU1Cwpz5rj",
        "colab_type": "code",
        "colab": {}
      },
      "source": [
        ""
      ],
      "execution_count": 0,
      "outputs": []
    }
  ]
}